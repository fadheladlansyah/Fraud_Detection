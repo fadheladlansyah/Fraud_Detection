{
  "cells": [
    {
      "cell_type": "markdown",
      "metadata": {},
      "source": [
        "[![Open In Colab](https://colab.research.google.com/assets/colab-badge.svg)](https://colab.research.google.com/github/fadheladlansyah/Fraud_Detection/blob/master/modeling.ipynb)"
      ]
    },
    {
      "cell_type": "markdown",
      "metadata": {
        "id": "QVkVo3mJeLQa",
        "colab_type": "text"
      },
      "source": [
        "# 0. Set access to drive"
      ]
    },
    {
      "cell_type": "code",
      "metadata": {
        "id": "y8WRwYFveK4u",
        "colab_type": "code",
        "colab": {
          "base_uri": "https://localhost:8080/",
          "height": 124
        },
        "outputId": "de803708-151d-4351-bab6-a3cae237fc30"
      },
      "source": [
        "from google.colab import drive\n",
        "drive.mount('/content/drive')"
      ],
      "execution_count": 3,
      "outputs": [
        {
          "output_type": "stream",
          "text": [
            "Go to this URL in a browser: https://accounts.google.com/o/oauth2/auth?client_id=947318989803-6bn6qk8qdgf4n4g3pfee6491hc0brc4i.apps.googleusercontent.com&redirect_uri=urn%3aietf%3awg%3aoauth%3a2.0%3aoob&response_type=code&scope=email%20https%3a%2f%2fwww.googleapis.com%2fauth%2fdocs.test%20https%3a%2f%2fwww.googleapis.com%2fauth%2fdrive%20https%3a%2f%2fwww.googleapis.com%2fauth%2fdrive.photos.readonly%20https%3a%2f%2fwww.googleapis.com%2fauth%2fpeopleapi.readonly\n",
            "\n",
            "Enter your authorization code:\n",
            "··········\n",
            "Mounted at /content/drive\n"
          ],
          "name": "stdout"
        }
      ]
    },
    {
      "cell_type": "markdown",
      "metadata": {
        "id": "UriXT1lnezke",
        "colab_type": "text"
      },
      "source": [
        "# 1. Libraries"
      ]
    },
    {
      "cell_type": "code",
      "metadata": {
        "id": "ImQfiVeXUz3k",
        "colab_type": "code",
        "colab": {}
      },
      "source": [
        "import numpy as np\n",
        "import pandas as pd\n",
        "pd.options.display.precision = 10\n",
        "pd.set_option('display.max_columns', 500)\n",
        "\n",
        "import matplotlib.pyplot as plt\n",
        "import matplotlib.gridspec as gridspec\n",
        "import seaborn as sns\n",
        "%matplotlib inline\n",
        "\n",
        "from sklearn.model_selection import GridSearchCV, StratifiedKFold\n",
        "from sklearn.metrics import confusion_matrix, roc_curve, auc\n",
        "\n",
        "from sklearn.linear_model import LogisticRegression\n",
        "from sklearn.svm import SVC\n",
        "import lightgbm as lgb\n",
        "import xgboost as xgb\n",
        "\n",
        "import time\n",
        "from joblib import dump, load\n",
        "import random\n",
        "import itertools\n",
        "from tqdm import tqdm_notebook\n",
        "\n",
        "import os\n",
        "import gc\n",
        "import warnings\n",
        "warnings.filterwarnings(\"ignore\")"
      ],
      "execution_count": 0,
      "outputs": []
    },
    {
      "cell_type": "code",
      "metadata": {
        "id": "oVLJz4fkW-r7",
        "colab_type": "code",
        "colab": {}
      },
      "source": [
        "# set random seed\n",
        "SEED = 42\n",
        "random.seed(SEED)\n",
        "os.environ['PYTHONHASHSEED'] = str(SEED)\n",
        "np.random.seed(SEED)"
      ],
      "execution_count": 0,
      "outputs": []
    },
    {
      "cell_type": "markdown",
      "metadata": {
        "id": "6Kp_6DOLdd_K",
        "colab_type": "text"
      },
      "source": [
        "# 2. Load processed data"
      ]
    },
    {
      "cell_type": "code",
      "metadata": {
        "id": "z2sLAtpgdccy",
        "colab_type": "code",
        "colab": {
          "base_uri": "https://localhost:8080/",
          "height": 86
        },
        "outputId": "5dbddf72-c690-4e98-d5c8-03999b3760af"
      },
      "source": [
        "folder_path = './drive/My Drive/Colab Notebooks/purwadhika/'\n",
        "\n",
        "train_df = pd.read_csv(folder_path+'train.csv')\n",
        "test_df = pd.read_csv(folder_path+'test.csv')\n",
        "\n",
        "y_train = train_df['isFraud']\n",
        "X_train = train_df.drop('isFraud', axis=1)\n",
        "y_test = test_df['isFraud']\n",
        "X_test = test_df.drop('isFraud', axis=1)\n",
        "\n",
        "del train_df, test_df\n",
        "display(X_train.shape, y_train.shape, X_test.shape, y_test.shape)"
      ],
      "execution_count": 17,
      "outputs": [
        {
          "output_type": "display_data",
          "data": {
            "text/plain": [
              "(472432, 103)"
            ]
          },
          "metadata": {
            "tags": []
          }
        },
        {
          "output_type": "display_data",
          "data": {
            "text/plain": [
              "(472432,)"
            ]
          },
          "metadata": {
            "tags": []
          }
        },
        {
          "output_type": "display_data",
          "data": {
            "text/plain": [
              "(118108, 103)"
            ]
          },
          "metadata": {
            "tags": []
          }
        },
        {
          "output_type": "display_data",
          "data": {
            "text/plain": [
              "(118108,)"
            ]
          },
          "metadata": {
            "tags": []
          }
        }
      ]
    },
    {
      "cell_type": "markdown",
      "metadata": {
        "id": "6SMI8QWgTbzZ",
        "colab_type": "text"
      },
      "source": [
        "# 3. Metrics\n",
        "\n",
        "Generally for kind of __fraud problems__, the approach taken is __to contain all problems__ and __increase awereness__. It focus on positive condition. First, to contain all problems means to increase true positive rate (TPR), so that the company is able to cancel the transaction immediately and prevent loss. Then, to increase awareness, is the condition which the company should do further check before proceeding the transaction, the company loss is less probable in this condition."
      ]
    },
    {
      "cell_type": "markdown",
      "metadata": {
        "id": "Md0I6RXJVYdc",
        "colab_type": "text"
      },
      "source": [
        "## Confusion Matrix\n",
        "\n",
        "To get basis idea of the classification results."
      ]
    },
    {
      "cell_type": "code",
      "metadata": {
        "id": "tUzAPenQTecp",
        "colab_type": "code",
        "colab": {}
      },
      "source": [
        "def plot_confusion_matrix(cm, classes,\n",
        "                          normalize=False,\n",
        "                          title='Confusion matrix\"',\n",
        "                          cmap=plt.cm.Blues) :\n",
        "    plt.imshow(cm, interpolation = 'nearest', cmap = cmap)\n",
        "    plt.title(title)\n",
        "    plt.colorbar()\n",
        "    tick_marks = np.arange(len(classes))\n",
        "    plt.xticks(tick_marks, classes, rotation = 0)\n",
        "    plt.yticks(tick_marks, classes)\n",
        "\n",
        "    thresh = cm.max() / 2.\n",
        "    for i, j in itertools.product(range(cm.shape[0]), range(cm.shape[1])) :\n",
        "        plt.text(j, i, cm[i, j],\n",
        "                 horizontalalignment = 'center',\n",
        "                 color = 'white' if cm[i, j] > thresh else 'black')\n",
        " \n",
        "    plt.tight_layout()\n",
        "    plt.ylabel('True label')\n",
        "    plt.xlabel('Predicted label')\n",
        "    plt.show()"
      ],
      "execution_count": 0,
      "outputs": []
    },
    {
      "cell_type": "markdown",
      "metadata": {
        "id": "U1JmSmPjXXb6",
        "colab_type": "text"
      },
      "source": [
        "## ROC AUC\n",
        "\n",
        "- Have diagnostic ability to design treshold and further decision\n",
        "- It is more robust to imbalance class"
      ]
    },
    {
      "cell_type": "code",
      "metadata": {
        "id": "mwen77yXXWyZ",
        "colab_type": "code",
        "colab": {}
      },
      "source": [
        "def plot_roc_auc(fpr, tpr):\n",
        "    roc_auc = auc(fpr,tpr)\n",
        "\n",
        "    plt.figure(figsize=(6,5))\n",
        "    lw = 2\n",
        "    plt.plot(fpr, tpr, color='darkorange',\n",
        "            lw=lw, label='ROC curve (area = %0.2f)' % roc_auc)\n",
        "    plt.plot([0, 1], [0, 1], color='navy', lw=lw, linestyle='--')\n",
        "    plt.xlim([0.0, 1.0])\n",
        "    plt.ylim([0.0, 1.01])\n",
        "    plt.xlabel('False Positive Rate')\n",
        "    plt.ylabel('True Positive Rate')\n",
        "    plt.title('Receiver operating characteristic')\n",
        "    plt.legend(loc=\"lower right\")\n",
        "    plt.show()"
      ],
      "execution_count": 0,
      "outputs": []
    },
    {
      "cell_type": "markdown",
      "metadata": {
        "id": "4dJKcjA9gr61",
        "colab_type": "text"
      },
      "source": [
        "# 4. Model\n",
        "\n",
        "Well in the sense that I don't commit the best exploration and feature engineering, still resulting large proceseed data. Simple model less probable to perform well. The other options is gradient boosted models that are more robust to this kind of conditions.\n",
        "\n",
        "Still, I will do the simple model one using Logistic and see the performance and choose the gradient boosting model as comparison."
      ]
    },
    {
      "cell_type": "markdown",
      "metadata": {
        "id": "FEs0mRNliCdY",
        "colab_type": "text"
      },
      "source": [
        "### Simple Logistic\n",
        "\n",
        "parameters tuning (C, penalty, iter) using GridSearchCV to get best parameters"
      ]
    },
    {
      "cell_type": "code",
      "metadata": {
        "id": "UrKEPOPeg0Z1",
        "colab_type": "code",
        "colab": {
          "base_uri": "https://localhost:8080/",
          "height": 52
        },
        "outputId": "540c5fc5-02db-49d9-aebf-1318a254915f"
      },
      "source": [
        "start_time = time.time()\n",
        "\n",
        "log_reg_params = {\n",
        "    'C':[0.5, 0.8, 1, 1.2],\n",
        "    'penalty':['l1', 'l2', 'elasticnet'],\n",
        "    'max_iter':[100, 200]\n",
        "}\n",
        "\n",
        "log_reg = LogisticRegression()\n",
        "clf = GridSearchCV(log_reg, log_reg_params, cv=5)\n",
        "clf.fit(X_train, y_train)\n",
        "\n",
        "print(\"--- %s seconds ---\" % (time.time() - start_time))\n",
        "\n",
        "dump(clf, folder_path+'gridCV_log.joblib')"
      ],
      "execution_count": 7,
      "outputs": [
        {
          "output_type": "stream",
          "text": [
            "--- 866.9319474697113 seconds ---\n"
          ],
          "name": "stdout"
        },
        {
          "output_type": "execute_result",
          "data": {
            "text/plain": [
              "['./drive/My Drive/Colab Notebooks/purwadhika/gridCV_log.joblib']"
            ]
          },
          "metadata": {
            "tags": []
          },
          "execution_count": 7
        }
      ]
    },
    {
      "cell_type": "code",
      "metadata": {
        "id": "Su487K5OV20Z",
        "colab_type": "code",
        "colab": {
          "base_uri": "https://localhost:8080/",
          "height": 69
        },
        "outputId": "d2bd6d83-3934-4c0c-c6e0-e6efa64f8a49"
      },
      "source": [
        "y_pred = clf.predict(X_train)\n",
        "fpr, tpr, _ = roc_curve(y_train, clf.predict_proba(X_train)[:,1])\n",
        "\n",
        "display(confusion_matrix(y_train, y_pred))\n",
        "print('Training AUC', auc(fpr,tpr))"
      ],
      "execution_count": 8,
      "outputs": [
        {
          "output_type": "display_data",
          "data": {
            "text/plain": [
              "array([[455167,    666],\n",
              "       [ 14181,   2418]])"
            ]
          },
          "metadata": {
            "tags": []
          }
        },
        {
          "output_type": "stream",
          "text": [
            "Training AUC 0.8327334610273198\n"
          ],
          "name": "stdout"
        }
      ]
    },
    {
      "cell_type": "code",
      "metadata": {
        "id": "ETcu7kTYon2M",
        "colab_type": "code",
        "colab": {
          "base_uri": "https://localhost:8080/",
          "height": 644
        },
        "outputId": "0a947e97-91c4-496d-955f-6f35bb750fe8"
      },
      "source": [
        "clf = load(folder_path+'gridCV_log.joblib') \n",
        "\n",
        "y_pred_test = clf.predict(X_test)\n",
        "fpr, tpr, _ = roc_curve(y_test, clf.predict_proba(X_test)[:,1])\n",
        "\n",
        "plot_confusion_matrix(confusion_matrix(y_test, y_pred_test), ['notFraud', 'Fraud'])\n",
        "plot_roc_auc(fpr,tpr)"
      ],
      "execution_count": 18,
      "outputs": [
        {
          "output_type": "display_data",
          "data": {
            "image/png": "[encoded data removed]",
            "text/plain": [
              "<Figure size 432x288 with 2 Axes>"
            ]
          },
          "metadata": {
            "tags": [],
            "needs_background": "light"
          }
        },
        {
          "output_type": "display_data",
          "data": {
            "image/png": "[encoded data removed]",
            "text/plain": [
              "<Figure size 432x360 with 1 Axes>"
            ]
          },
          "metadata": {
            "tags": [],
            "needs_background": "light"
          }
        }
      ]
    },
    {
      "cell_type": "markdown",
      "metadata": {
        "id": "rluVEpKGDrM5",
        "colab_type": "text"
      },
      "source": [
        "By seeing the confusion matrix, I wont bother to try fold strategy to optimize the performance."
      ]
    },
    {
      "cell_type": "markdown",
      "metadata": {
        "id": "0suYS7xGiZ4t",
        "colab_type": "text"
      },
      "source": [
        "## Boosted models, LGBM\n",
        "\n",
        "Gradient boosting is a sort of best both classification and regression algorithm, in the sense that models are optimized via gradient descent on specified loss functions. But also reap the idea and  benefits of tree-based models : feature selection and interaction, scale invariance, and ability to capture (highly) non-linear feature-target relationships. These characteristics make gradient boosted models very robust to messy and heterogenous data (e.g. nullness, outliers, mix of numerics on different scales and categoricals). While LGBM is the most preferred gradient boosting models much likely because of the shortest learning time.\n",
        "\n",
        "\n",
        "- Combine with StratifiedKFold to increase generalization power. StratifiedKFold matter the sample proportion for each class.\n",
        "- Parameters tuning on:\n",
        "\n",
        "  - __n_split fold__ higher, increase generalization by aggregating feature importance in each folds\n",
        "  - __learning_rate__ lower, let the model converge better\n",
        "  - __num_iterations__ higher or num_trees, tune with learning_rate, so that converging model do not stop learning because of number of iteration limit\n",
        "  - __num_leaves__ higher, max number of leaves in one tree\n",
        "  - __feature_fraction__, increase generalization by selecting part of features on each iteration (tree)"
      ]
    },
    {
      "cell_type": "code",
      "metadata": {
        "id": "cvdEZkKeBBlM",
        "colab_type": "code",
        "colab": {}
      },
      "source": [
        "def makePredictions(tr_df, tt_df, target, lgb_params, NFOLDS=2):\n",
        "    skfolds = StratifiedKFold(n_splits=NFOLDS, shuffle=True, random_state=SEED)\n",
        "\n",
        "    X,y = tr_df, target  \n",
        "    P = tt_df\n",
        "    predictions = np.zeros(len(tt_df))\n",
        "    \n",
        "    features = list(tr_df.columns)\n",
        "    feature_importance_df = pd.DataFrame()\n",
        "    \n",
        "    for fold_, (trn_idx, val_idx) in enumerate(skfolds.split(X, y)):\n",
        "        \n",
        "        print('Fold:',fold_)\n",
        "        start_time = time.time()\n",
        "\n",
        "        tr_x, tr_y = X.iloc[trn_idx,:], y[trn_idx]\n",
        "        vl_x, vl_y = X.iloc[val_idx,:], y[val_idx]\n",
        "            \n",
        "        print(len(tr_x),len(vl_x))\n",
        "        tr_data = lgb.Dataset(tr_x, label=tr_y)\n",
        "        vl_data = lgb.Dataset(vl_x, label=vl_y)  \n",
        "\n",
        "        estimator = lgb.train(\n",
        "            lgb_params,\n",
        "            tr_data,\n",
        "            valid_sets = [tr_data, vl_data],\n",
        "            verbose_eval = 200,\n",
        "        )\n",
        "\n",
        "        print(\"--- %s seconds ---\" % (time.time() - start_time))\n",
        "\n",
        "        dump(estimator, folder_path+f'lgb_fold{fold_}.joblib')\n",
        "\n",
        "        pp_p = estimator.predict(P)\n",
        "        predictions += pp_p/NFOLDS\n",
        "        \n",
        "        fold_importance_df = pd.DataFrame()\n",
        "        fold_importance_df[\"Feature\"] = features\n",
        "        fold_importance_df[\"importance\"] = estimator.feature_importance()\n",
        "        fold_importance_df[\"fold\"] = fold_ + 1\n",
        "        feature_importance_df = pd.concat([feature_importance_df, fold_importance_df], axis=0)\n",
        "\n",
        "        del tr_x, tr_y, vl_x, vl_y, tr_data, vl_data\n",
        "        gc.collect()\n",
        "        \n",
        "    tt_df['prediction'] = predictions\n",
        "    \n",
        "    return tt_df, feature_importance_df"
      ],
      "execution_count": 0,
      "outputs": []
    },
    {
      "cell_type": "code",
      "metadata": {
        "id": "u_kHttCUlQtT",
        "colab_type": "code",
        "colab": {
          "base_uri": "https://localhost:8080/",
          "height": 1000
        },
        "outputId": "a75f3e36-b75e-486b-d93f-86c0175dcf4c"
      },
      "source": [
        "lgb_params = {\n",
        "    'objective':'binary',\n",
        "    'boosting_type':'gbdt',  #default\n",
        "    'metric':'auc',\n",
        "    'n_jobs':-1,  #default\n",
        "    'learning_rate':0.01,  #default 0.1\n",
        "    'num_leaves': 256, #default 31\n",
        "    'max_depth':-1, #default\n",
        "    'tree_learner':'serial',\n",
        "    'feature_fraction': 0.7,  #default 1\n",
        "    'subsample_freq':1, #default 0\n",
        "    'subsample':0.7,  #default 1\n",
        "    'num_iterations':1800, #default 100\n",
        "    'max_bin':255,  #default\n",
        "    'verbose':-1,\n",
        "    'seed': SEED,\n",
        "    'early_stopping_rounds':100,\n",
        "}\n",
        "  \n",
        "test_df_w_pred_lgb, feat_importance_df_lgb = makePredictions(X_train, X_test, y_train, lgb_params, NFOLDS=8)"
      ],
      "execution_count": 10,
      "outputs": [
        {
          "output_type": "stream",
          "text": [
            "Fold: 0\n",
            "413378 59054\n",
            "Training until validation scores don't improve for 100 rounds.\n",
            "[200]\ttraining's auc: 0.956306\tvalid_1's auc: 0.927426\n",
            "[400]\ttraining's auc: 0.983292\tvalid_1's auc: 0.947476\n",
            "[600]\ttraining's auc: 0.992285\tvalid_1's auc: 0.956279\n",
            "[800]\ttraining's auc: 0.996082\tvalid_1's auc: 0.960235\n",
            "[1000]\ttraining's auc: 0.997934\tvalid_1's auc: 0.962657\n",
            "[1200]\ttraining's auc: 0.998911\tvalid_1's auc: 0.964066\n",
            "[1400]\ttraining's auc: 0.999432\tvalid_1's auc: 0.965043\n",
            "[1600]\ttraining's auc: 0.999732\tvalid_1's auc: 0.96571\n",
            "[1800]\ttraining's auc: 0.999871\tvalid_1's auc: 0.966249\n",
            "Did not meet early stopping. Best iteration is:\n",
            "[1800]\ttraining's auc: 0.999871\tvalid_1's auc: 0.966249\n",
            "--- 698.2026269435883 seconds ---\n",
            "Fold: 1\n",
            "413378 59054\n",
            "Training until validation scores don't improve for 100 rounds.\n",
            "[200]\ttraining's auc: 0.955947\tvalid_1's auc: 0.926637\n",
            "[400]\ttraining's auc: 0.983372\tvalid_1's auc: 0.945737\n",
            "[600]\ttraining's auc: 0.992539\tvalid_1's auc: 0.954298\n",
            "[800]\ttraining's auc: 0.996174\tvalid_1's auc: 0.958262\n",
            "[1000]\ttraining's auc: 0.99798\tvalid_1's auc: 0.960389\n",
            "[1200]\ttraining's auc: 0.998988\tvalid_1's auc: 0.961904\n",
            "[1400]\ttraining's auc: 0.999483\tvalid_1's auc: 0.962855\n",
            "[1600]\ttraining's auc: 0.999749\tvalid_1's auc: 0.963549\n",
            "[1800]\ttraining's auc: 0.999877\tvalid_1's auc: 0.964218\n",
            "Did not meet early stopping. Best iteration is:\n",
            "[1800]\ttraining's auc: 0.999877\tvalid_1's auc: 0.964218\n",
            "--- 673.8316314220428 seconds ---\n",
            "Fold: 2\n",
            "413378 59054\n",
            "Training until validation scores don't improve for 100 rounds.\n",
            "[200]\ttraining's auc: 0.955753\tvalid_1's auc: 0.932857\n",
            "[400]\ttraining's auc: 0.983153\tvalid_1's auc: 0.951639\n",
            "[600]\ttraining's auc: 0.992162\tvalid_1's auc: 0.959575\n",
            "[800]\ttraining's auc: 0.995973\tvalid_1's auc: 0.963125\n",
            "[1000]\ttraining's auc: 0.997895\tvalid_1's auc: 0.965534\n",
            "[1200]\ttraining's auc: 0.998839\tvalid_1's auc: 0.967139\n",
            "[1400]\ttraining's auc: 0.999411\tvalid_1's auc: 0.968042\n",
            "[1600]\ttraining's auc: 0.999699\tvalid_1's auc: 0.968753\n",
            "[1800]\ttraining's auc: 0.999836\tvalid_1's auc: 0.969174\n",
            "Did not meet early stopping. Best iteration is:\n",
            "[1800]\ttraining's auc: 0.999836\tvalid_1's auc: 0.969174\n",
            "--- 683.9888286590576 seconds ---\n",
            "Fold: 3\n",
            "413378 59054\n",
            "Training until validation scores don't improve for 100 rounds.\n",
            "[200]\ttraining's auc: 0.955705\tvalid_1's auc: 0.92934\n",
            "[400]\ttraining's auc: 0.982829\tvalid_1's auc: 0.950726\n",
            "[600]\ttraining's auc: 0.992211\tvalid_1's auc: 0.958731\n",
            "[800]\ttraining's auc: 0.996013\tvalid_1's auc: 0.962317\n",
            "[1000]\ttraining's auc: 0.997842\tvalid_1's auc: 0.964514\n",
            "[1200]\ttraining's auc: 0.998834\tvalid_1's auc: 0.966079\n",
            "[1400]\ttraining's auc: 0.999422\tvalid_1's auc: 0.967207\n",
            "[1600]\ttraining's auc: 0.999721\tvalid_1's auc: 0.967907\n",
            "[1800]\ttraining's auc: 0.999863\tvalid_1's auc: 0.968393\n",
            "Did not meet early stopping. Best iteration is:\n",
            "[1800]\ttraining's auc: 0.999863\tvalid_1's auc: 0.968393\n",
            "--- 693.1225106716156 seconds ---\n",
            "Fold: 4\n",
            "413378 59054\n",
            "Training until validation scores don't improve for 100 rounds.\n",
            "[200]\ttraining's auc: 0.955262\tvalid_1's auc: 0.928073\n",
            "[400]\ttraining's auc: 0.982966\tvalid_1's auc: 0.949062\n",
            "[600]\ttraining's auc: 0.992087\tvalid_1's auc: 0.957648\n",
            "[800]\ttraining's auc: 0.995938\tvalid_1's auc: 0.96152\n",
            "[1000]\ttraining's auc: 0.997908\tvalid_1's auc: 0.963834\n",
            "[1200]\ttraining's auc: 0.998867\tvalid_1's auc: 0.965408\n",
            "[1400]\ttraining's auc: 0.999404\tvalid_1's auc: 0.966468\n",
            "[1600]\ttraining's auc: 0.999697\tvalid_1's auc: 0.96723\n",
            "[1800]\ttraining's auc: 0.999855\tvalid_1's auc: 0.967856\n",
            "Did not meet early stopping. Best iteration is:\n",
            "[1800]\ttraining's auc: 0.999855\tvalid_1's auc: 0.967856\n",
            "--- 681.8994340896606 seconds ---\n",
            "Fold: 5\n",
            "413378 59054\n",
            "Training until validation scores don't improve for 100 rounds.\n",
            "[200]\ttraining's auc: 0.95636\tvalid_1's auc: 0.931626\n",
            "[400]\ttraining's auc: 0.982877\tvalid_1's auc: 0.953263\n",
            "[600]\ttraining's auc: 0.991971\tvalid_1's auc: 0.96099\n",
            "[800]\ttraining's auc: 0.995849\tvalid_1's auc: 0.964521\n",
            "[1000]\ttraining's auc: 0.997853\tvalid_1's auc: 0.96678\n",
            "[1200]\ttraining's auc: 0.998878\tvalid_1's auc: 0.968165\n",
            "[1400]\ttraining's auc: 0.99944\tvalid_1's auc: 0.969076\n",
            "[1600]\ttraining's auc: 0.99973\tvalid_1's auc: 0.969856\n",
            "[1800]\ttraining's auc: 0.999875\tvalid_1's auc: 0.970495\n",
            "Did not meet early stopping. Best iteration is:\n",
            "[1800]\ttraining's auc: 0.999875\tvalid_1's auc: 0.970495\n",
            "--- 666.6981165409088 seconds ---\n",
            "Fold: 6\n",
            "413378 59054\n",
            "Training until validation scores don't improve for 100 rounds.\n",
            "[200]\ttraining's auc: 0.95601\tvalid_1's auc: 0.931531\n",
            "[400]\ttraining's auc: 0.982934\tvalid_1's auc: 0.95073\n",
            "[600]\ttraining's auc: 0.992264\tvalid_1's auc: 0.958588\n",
            "[800]\ttraining's auc: 0.995992\tvalid_1's auc: 0.962116\n",
            "[1000]\ttraining's auc: 0.997863\tvalid_1's auc: 0.964347\n",
            "[1200]\ttraining's auc: 0.998849\tvalid_1's auc: 0.965713\n",
            "[1400]\ttraining's auc: 0.99941\tvalid_1's auc: 0.966584\n",
            "[1600]\ttraining's auc: 0.999715\tvalid_1's auc: 0.967359\n",
            "[1800]\ttraining's auc: 0.999865\tvalid_1's auc: 0.967895\n",
            "Did not meet early stopping. Best iteration is:\n",
            "[1800]\ttraining's auc: 0.999865\tvalid_1's auc: 0.967895\n",
            "--- 679.6989526748657 seconds ---\n",
            "Fold: 7\n",
            "413378 59054\n",
            "Training until validation scores don't improve for 100 rounds.\n",
            "[200]\ttraining's auc: 0.95555\tvalid_1's auc: 0.933362\n",
            "[400]\ttraining's auc: 0.982822\tvalid_1's auc: 0.953425\n",
            "[600]\ttraining's auc: 0.992079\tvalid_1's auc: 0.962384\n",
            "[800]\ttraining's auc: 0.995934\tvalid_1's auc: 0.965456\n",
            "[1000]\ttraining's auc: 0.997846\tvalid_1's auc: 0.967353\n",
            "[1200]\ttraining's auc: 0.998894\tvalid_1's auc: 0.968619\n",
            "[1400]\ttraining's auc: 0.999434\tvalid_1's auc: 0.969487\n",
            "[1600]\ttraining's auc: 0.999725\tvalid_1's auc: 0.970183\n",
            "[1800]\ttraining's auc: 0.999862\tvalid_1's auc: 0.970712\n",
            "Did not meet early stopping. Best iteration is:\n",
            "[1800]\ttraining's auc: 0.999862\tvalid_1's auc: 0.970712\n",
            "--- 667.3197212219238 seconds ---\n"
          ],
          "name": "stdout"
        }
      ]
    },
    {
      "cell_type": "code",
      "metadata": {
        "id": "kN-UIOkdlQpG",
        "colab_type": "code",
        "colab": {
          "base_uri": "https://localhost:8080/",
          "height": 644
        },
        "outputId": "ba3c89db-ece9-4e85-d196-d4882ac38b4a"
      },
      "source": [
        "y_pred = test_df_w_pred_lgb['prediction'].apply(lambda x: 1 if x>0.5 else 0).values\n",
        "fpr, tpr, _ = roc_curve(y_test, test_df_w_pred_lgb['prediction'])\n",
        "\n",
        "plot_confusion_matrix(confusion_matrix(y_test, y_pred), ['notFraud', 'Fraud'])\n",
        "plot_roc_auc(fpr,tpr)"
      ],
      "execution_count": 14,
      "outputs": [
        {
          "output_type": "display_data",
          "data": {
            "image/png": "[encoded data removed]",
            "text/plain": [
              "<Figure size 432x288 with 2 Axes>"
            ]
          },
          "metadata": {
            "tags": [],
            "needs_background": "light"
          }
        },
        {
          "output_type": "display_data",
          "data": {
            "image/png": "[encoded data removed]",
            "text/plain": [
              "<Figure size 432x360 with 1 Axes>"
            ]
          },
          "metadata": {
            "tags": [],
            "needs_background": "light"
          }
        }
      ]
    },
    {
      "cell_type": "code",
      "metadata": {
        "id": "2PZRpJQclQmc",
        "colab_type": "code",
        "colab": {
          "base_uri": "https://localhost:8080/",
          "height": 729
        },
        "outputId": "ffefe743-65c2-4b31-d485-6c821fdbdcf5"
      },
      "source": [
        "cols = (feat_importance_df_lgb[[\"Feature\", \"importance\"]]\n",
        "    .groupby(\"Feature\")\n",
        "    .mean()\n",
        "    .sort_values(by=\"importance\", ascending=False)[:30].index)\n",
        "best_features = feat_importance_df_lgb.loc[feat_importance_df_lgb.Feature.isin(cols)]\n",
        "\n",
        "plt.figure(figsize=(10,10))\n",
        "sns.barplot(x=\"importance\", y=\"Feature\", data=best_features.sort_values(by=\"importance\",ascending=False),\n",
        "        edgecolor=('white'), linewidth=2, palette=\"rocket\")\n",
        "plt.title('LGB Features importance (averaged/folds)', fontsize=18)\n",
        "plt.tight_layout()"
      ],
      "execution_count": 15,
      "outputs": [
        {
          "output_type": "display_data",
          "data": {
            "image/png": "[encoded data removed]",
            "text/plain": [
              "<Figure size 720x720 with 1 Axes>"
            ]
          },
          "metadata": {
            "tags": [],
            "needs_background": "light"
          }
        }
      ]
    },
    {
      "cell_type": "markdown",
      "metadata": {
        "id": "07jNuHoS9eQl",
        "colab_type": "text"
      },
      "source": [
        "# Summary\n",
        "\n"
      ]
    },
    {
      "cell_type": "markdown",
      "metadata": {
        "id": "8g8cVDJlrZcT",
        "colab_type": "text"
      },
      "source": [
        "__What can be inferred__\n",
        "\n",
        "- learning time, \n",
        "  - logistic : ~800s in the tuning process, ~30s in single fit\n",
        "  - LGBM : ~700s/fold \n",
        "- generated weights, rough estimation to get reasons for model size and learning time\n",
        "  - logistic : num of features+bias ~104\n",
        "  - LGBM : too complex to count"
      ]
    },
    {
      "cell_type": "markdown",
      "metadata": {
        "id": "hqml3s2T2Wfs",
        "colab_type": "text"
      },
      "source": [
        "- Simple model tend to poorly perform. Because of initially the features included were huge so the complexity.\n",
        "- The fold idea is doing well, mainly because the initial samples were huge.\n",
        "- LGBM works fine, though the dataset have imbalance in labels and a lot of features, but the model have learning structure and tunable parameters resulting fine performance."
      ]
    },
    {
      "cell_type": "markdown",
      "metadata": {
        "id": "wearu5tW5sb9",
        "colab_type": "text"
      },
      "source": [
        "__What can be improved__\n",
        "\n",
        "- Features:\n",
        "  - Generate features by aggregating between them (need further exploration both meaning of the features and statistic approach) and see how it impacts the model performance\n",
        "  - Try to drop less important features.\n",
        "  - Feature selection like PCA or other methods t-SNE might be able to be applied to the whole dataset.\n",
        "\n",
        "- Model:\n",
        "  - LGBM have a lot of parameters. Try and evaluate more parameters to get positive impact on performace, training time, and inference time. Also there is already boosting method to get the best parameters.\n",
        "  - Should try neural network, since the data already relatively sufficient in number of samples and number of features.\n",
        "\n",
        "- Other:\n",
        "  - There are method in sampling to approach imbalance class: over-sampling and under-sampling. The idea is let the model learn better with the same number of samples for each class. Surely there are also the drawbacks."
      ]
    }
  ],
  "metadata": {
    "colab": {
      "name": "modelling.ipynb",
      "provenance": []
    },
    "kernelspec": {
      "name": "python3",
      "display_name": "Python 3"
    }
  },
  "nbformat": 4,
  "nbformat_minor": 0
}